{
 "cells": [
  {
   "cell_type": "markdown",
   "metadata": {},
   "source": [
    "#Data Cleaning"
   ]
  },
  {
   "cell_type": "code",
   "execution_count": 1,
   "metadata": {
    "collapsed": true
   },
   "outputs": [],
   "source": [
    "import sys\n",
    "sys.path.append('/Users/alexsutherland/Dropbox/Insight/WeightLossReddit/')\n",
    "import datetime\n",
    "import unicodedata\n",
    "import redditDataIO\n"
   ]
  },
  {
   "cell_type": "markdown",
   "metadata": {},
   "source": [
    "First, let's load the data:"
   ]
  },
  {
   "cell_type": "code",
   "execution_count": 2,
   "metadata": {
    "collapsed": false
   },
   "outputs": [
    {
     "data": {
      "text/html": [
       "<div style=\"max-height:1000px;max-width:1500px;overflow:auto;\">\n",
       "<table border=\"1\" class=\"dataframe\">\n",
       "  <thead>\n",
       "    <tr style=\"text-align: right;\">\n",
       "      <th></th>\n",
       "      <th>index</th>\n",
       "      <th>num_comments</th>\n",
       "      <th>endWeight</th>\n",
       "      <th>created_utc</th>\n",
       "      <th>height</th>\n",
       "      <th>score</th>\n",
       "      <th>weightChange</th>\n",
       "      <th>over_18</th>\n",
       "      <th>timeElapsed</th>\n",
       "      <th>startWeight</th>\n",
       "      <th>age</th>\n",
       "      <th>currentBMI</th>\n",
       "      <th>previousBMI</th>\n",
       "    </tr>\n",
       "  </thead>\n",
       "  <tbody>\n",
       "    <tr>\n",
       "      <th>count</th>\n",
       "      <td> 5277.000000</td>\n",
       "      <td> 5277.000000</td>\n",
       "      <td>   5277.000000</td>\n",
       "      <td> 5.277000e+03</td>\n",
       "      <td>  5277.000000</td>\n",
       "      <td> 5277.000000</td>\n",
       "      <td>   5277.000000</td>\n",
       "      <td> 5277.000000</td>\n",
       "      <td> 5277.000000</td>\n",
       "      <td> 5277.000000</td>\n",
       "      <td> 5277.000000</td>\n",
       "      <td>  5277.000000</td>\n",
       "      <td> 5277.000000</td>\n",
       "    </tr>\n",
       "    <tr>\n",
       "      <th>mean</th>\n",
       "      <td> 2638.000000</td>\n",
       "      <td>   18.125640</td>\n",
       "      <td>    203.882888</td>\n",
       "      <td> 1.406221e+09</td>\n",
       "      <td>    76.624787</td>\n",
       "      <td>  280.378435</td>\n",
       "      <td>    -20.375592</td>\n",
       "      <td>    0.065378</td>\n",
       "      <td>    6.637737</td>\n",
       "      <td>  224.258480</td>\n",
       "      <td>   24.569452</td>\n",
       "      <td>    30.865208</td>\n",
       "      <td>   33.944866</td>\n",
       "    </tr>\n",
       "    <tr>\n",
       "      <th>std</th>\n",
       "      <td> 1523.483016</td>\n",
       "      <td>   31.349886</td>\n",
       "      <td>   1722.256587</td>\n",
       "      <td> 1.885089e+07</td>\n",
       "      <td>   519.286566</td>\n",
       "      <td>  490.069006</td>\n",
       "      <td>   1723.639785</td>\n",
       "      <td>    0.247215</td>\n",
       "      <td>   11.347742</td>\n",
       "      <td>   97.795635</td>\n",
       "      <td>    7.227325</td>\n",
       "      <td>   260.459834</td>\n",
       "      <td>   14.763405</td>\n",
       "    </tr>\n",
       "    <tr>\n",
       "      <th>min</th>\n",
       "      <td>    0.000000</td>\n",
       "      <td>    0.000000</td>\n",
       "      <td>      1.000000</td>\n",
       "      <td> 1.330040e+09</td>\n",
       "      <td>    49.000000</td>\n",
       "      <td>    0.000000</td>\n",
       "      <td>  -2013.000000</td>\n",
       "      <td>    0.000000</td>\n",
       "      <td>    0.830000</td>\n",
       "      <td>    1.000000</td>\n",
       "      <td>   12.000000</td>\n",
       "      <td>     0.000101</td>\n",
       "      <td>    0.000115</td>\n",
       "    </tr>\n",
       "    <tr>\n",
       "      <th>25%</th>\n",
       "      <td> 1319.000000</td>\n",
       "      <td>    5.000000</td>\n",
       "      <td>    151.000000</td>\n",
       "      <td> 1.392300e+09</td>\n",
       "      <td>    66.000000</td>\n",
       "      <td>   65.000000</td>\n",
       "      <td>    -65.000000</td>\n",
       "      <td>    0.000000</td>\n",
       "      <td>    2.000000</td>\n",
       "      <td>  175.000000</td>\n",
       "      <td>   21.000000</td>\n",
       "      <td>    23.644200</td>\n",
       "      <td>   27.777800</td>\n",
       "    </tr>\n",
       "    <tr>\n",
       "      <th>50%</th>\n",
       "      <td> 2638.000000</td>\n",
       "      <td>   10.000000</td>\n",
       "      <td>    175.000000</td>\n",
       "      <td> 1.407850e+09</td>\n",
       "      <td>    69.000000</td>\n",
       "      <td>  119.000000</td>\n",
       "      <td>    -39.000000</td>\n",
       "      <td>    0.000000</td>\n",
       "      <td>    5.000000</td>\n",
       "      <td>  217.000000</td>\n",
       "      <td>   24.000000</td>\n",
       "      <td>    26.296600</td>\n",
       "      <td>   32.993500</td>\n",
       "    </tr>\n",
       "    <tr>\n",
       "      <th>75%</th>\n",
       "      <td> 3957.000000</td>\n",
       "      <td>   18.000000</td>\n",
       "      <td>    200.000000</td>\n",
       "      <td> 1.422920e+09</td>\n",
       "      <td>    72.000000</td>\n",
       "      <td>  253.000000</td>\n",
       "      <td>    -19.000000</td>\n",
       "      <td>    0.000000</td>\n",
       "      <td>    8.000000</td>\n",
       "      <td>  262.000000</td>\n",
       "      <td>   27.000000</td>\n",
       "      <td>    29.792100</td>\n",
       "      <td>   39.181800</td>\n",
       "    </tr>\n",
       "    <tr>\n",
       "      <th>max</th>\n",
       "      <td> 5276.000000</td>\n",
       "      <td>  698.000000</td>\n",
       "      <td> 125169.000000</td>\n",
       "      <td> 1.434480e+09</td>\n",
       "      <td> 37772.000000</td>\n",
       "      <td> 5569.000000</td>\n",
       "      <td> 125061.000000</td>\n",
       "      <td>    1.000000</td>\n",
       "      <td>  612.000000</td>\n",
       "      <td> 2014.000000</td>\n",
       "      <td>  289.000000</td>\n",
       "      <td> 18929.100000</td>\n",
       "      <td>  375.359000</td>\n",
       "    </tr>\n",
       "  </tbody>\n",
       "</table>\n",
       "</div>"
      ],
      "text/plain": [
       "             index  num_comments      endWeight   created_utc        height  \\\n",
       "count  5277.000000   5277.000000    5277.000000  5.277000e+03   5277.000000   \n",
       "mean   2638.000000     18.125640     203.882888  1.406221e+09     76.624787   \n",
       "std    1523.483016     31.349886    1722.256587  1.885089e+07    519.286566   \n",
       "min       0.000000      0.000000       1.000000  1.330040e+09     49.000000   \n",
       "25%    1319.000000      5.000000     151.000000  1.392300e+09     66.000000   \n",
       "50%    2638.000000     10.000000     175.000000  1.407850e+09     69.000000   \n",
       "75%    3957.000000     18.000000     200.000000  1.422920e+09     72.000000   \n",
       "max    5276.000000    698.000000  125169.000000  1.434480e+09  37772.000000   \n",
       "\n",
       "             score   weightChange      over_18  timeElapsed  startWeight  \\\n",
       "count  5277.000000    5277.000000  5277.000000  5277.000000  5277.000000   \n",
       "mean    280.378435     -20.375592     0.065378     6.637737   224.258480   \n",
       "std     490.069006    1723.639785     0.247215    11.347742    97.795635   \n",
       "min       0.000000   -2013.000000     0.000000     0.830000     1.000000   \n",
       "25%      65.000000     -65.000000     0.000000     2.000000   175.000000   \n",
       "50%     119.000000     -39.000000     0.000000     5.000000   217.000000   \n",
       "75%     253.000000     -19.000000     0.000000     8.000000   262.000000   \n",
       "max    5569.000000  125061.000000     1.000000   612.000000  2014.000000   \n",
       "\n",
       "               age    currentBMI  previousBMI  \n",
       "count  5277.000000   5277.000000  5277.000000  \n",
       "mean     24.569452     30.865208    33.944866  \n",
       "std       7.227325    260.459834    14.763405  \n",
       "min      12.000000      0.000101     0.000115  \n",
       "25%      21.000000     23.644200    27.777800  \n",
       "50%      24.000000     26.296600    32.993500  \n",
       "75%      27.000000     29.792100    39.181800  \n",
       "max     289.000000  18929.100000   375.359000  "
      ]
     },
     "execution_count": 2,
     "metadata": {},
     "output_type": "execute_result"
    }
   ],
   "source": [
    "fullData = redditDataIO.loadData()\n",
    "fullData.describe()"
   ]
  },
  {
   "cell_type": "code",
   "execution_count": 3,
   "metadata": {
    "collapsed": true
   },
   "outputs": [],
   "source": [
    "def convertWeightToPounds(data):\n",
    "    print 'Distribution of weight units before converting weight to pounds:'\n",
    "    print data['weightUnit'].value_counts()\n",
    "    \n",
    "    kgIndexes = data.weightUnit == 'kg'\n",
    "    data.ix[kgIndexes,['startWeight','endWeight','weightChange']] = data.ix[kgIndexes,['startWeight','endWeight','weightChange']].applymap(lambda x: float(x)*2.2)\n",
    "    data.ix[kgIndexes,'weightUnit'] = 'lb'\n",
    "    \n",
    "    poIndexes = data.weightUnit == 'po'\n",
    "    data.ix[poIndexes,'weightUnit'] = 'lb'\n",
    "    \n",
    "    print 'Distribution of weight units before converting weight to pounds:'\n",
    "    print data['weightUnit'].value_counts()\n",
    "    \n",
    "    return data"
   ]
  },
  {
   "cell_type": "markdown",
   "metadata": {},
   "source": [
    "Converting all of the kg weight units to lbs, using a multiplication factor of 2.2 lbs/kg"
   ]
  },
  {
   "cell_type": "code",
   "execution_count": 4,
   "metadata": {
    "collapsed": false,
    "scrolled": true
   },
   "outputs": [
    {
     "name": "stdout",
     "output_type": "stream",
     "text": [
      "Distribution of weight units before converting weight to pounds:\n",
      "lb    3795\n",
      "      1243\n",
      "kg     122\n",
      "po     117\n",
      "dtype: int64\n",
      "Distribution of weight units before converting weight to pounds:\n",
      "lb    4034\n",
      "      1243\n",
      "dtype: int64\n"
     ]
    }
   ],
   "source": [
    "cleanedData = convertWeightToPounds(fullData)"
   ]
  },
  {
   "cell_type": "markdown",
   "metadata": {},
   "source": [
    "All of our weight units are in lbs."
   ]
  },
  {
   "cell_type": "markdown",
   "metadata": {},
   "source": [
    "If the row does not have a weight unit, we can try to figure out its unit and fill in an appropriate unit:"
   ]
  },
  {
   "cell_type": "code",
   "execution_count": 5,
   "metadata": {
    "collapsed": true
   },
   "outputs": [],
   "source": [
    "def fillInMissingWeightUnit(data):\n",
    "    print 'Distribution of weight units before filling in missing weight units:'\n",
    "    print data['weightUnit'].value_counts()\n",
    "    \n",
    "    #Full in ones that mention lbs\n",
    "    dataWithMissingWeightUnit = data.ix[data['weightUnit'] == '',]\n",
    "    \n",
    "    initialRowsWithoutWeightUnit = dataWithMissingWeightUnit.shape[0]\n",
    "    \n",
    "    foundLbsArray = dataWithMissingWeightUnit.ix[dataWithMissingWeightUnit['title'].map(lambda x: True if x.lower().find('lb') > 0 else False),'title']\n",
    "    \n",
    "    data.ix[foundLbsArray.index,'weightUnit'] = 'lb'\n",
    "    \n",
    "    #Fill in data where the weight could not be kgs\n",
    "    dataWithMissingWeightUnit = data.ix[data['weightUnit'] == '',]\n",
    "    \n",
    "    largeWeightArray = dataWithMissingWeightUnit.ix[dataWithMissingWeightUnit['startWeight'].map(lambda x: True if x > 140 else False),'title']\n",
    "    \n",
    "    data.ix[largeWeightArray.index,'weightUnit'] = 'lb'\n",
    "    \n",
    "    finalRowsWithoutWeightUnit = data.ix[data['weightUnit'] == '',].shape[0]\n",
    "    \n",
    "    print 'Filled in ' + str(initialRowsWithoutWeightUnit - finalRowsWithoutWeightUnit) + ' samples with new WeightUnits. Shape: ' + str(data.shape)\n",
    "    print ''\n",
    "    print 'Distribution of weight units after filling in missing weight units:'\n",
    "    print data['weightUnit'].value_counts()\n",
    "    return data"
   ]
  },
  {
   "cell_type": "code",
   "execution_count": 6,
   "metadata": {
    "collapsed": false
   },
   "outputs": [
    {
     "name": "stdout",
     "output_type": "stream",
     "text": [
      "Distribution of weight units before filling in missing weight units:\n",
      "lb    4034\n",
      "      1243\n",
      "dtype: int64\n",
      "Filled in 1159 samples with new WeightUnits. Shape: (5277, 22)\n",
      "\n",
      "Distribution of weight units after filling in missing weight units:\n",
      "lb    5193\n",
      "        84\n",
      "dtype: int64\n"
     ]
    }
   ],
   "source": [
    "cleanedData = fillInMissingWeightUnit(cleanedData)"
   ]
  },
  {
   "cell_type": "markdown",
   "metadata": {},
   "source": [
    "At this point, we've converted the weight units and filled in missing units. If the units are still not there, we should remove the row:"
   ]
  },
  {
   "cell_type": "code",
   "execution_count": 7,
   "metadata": {
    "collapsed": true
   },
   "outputs": [],
   "source": [
    "def removeMissingWeightRows(data):\n",
    "    initialRows = data.shape[0]    \n",
    "\n",
    "    dropIndexes = data['weightUnit'] == ''\n",
    "    dropIndexes = dropIndexes[dropIndexes == True].index.map(lambda x: int(x))\n",
    "\n",
    "    data = data.drop(dropIndexes, axis=0)\n",
    "    \n",
    "    print 'Removed ' + str(initialRows - data.shape[0]) + ' samples without WeightUnits. Shape: ' + str(data.shape)\n",
    "\n",
    "    return data"
   ]
  },
  {
   "cell_type": "code",
   "execution_count": 8,
   "metadata": {
    "collapsed": false
   },
   "outputs": [
    {
     "name": "stdout",
     "output_type": "stream",
     "text": [
      "Removed 84 samples without WeightUnits. Shape: (5193, 22)\n"
     ]
    }
   ],
   "source": [
    "cleanedData = removeMissingWeightRows(cleanedData)"
   ]
  },
  {
   "cell_type": "markdown",
   "metadata": {},
   "source": [
    "Now, we turn our attention to converting the time elapsed to seconds (or Epoch time):"
   ]
  },
  {
   "cell_type": "code",
   "execution_count": 9,
   "metadata": {
    "collapsed": true
   },
   "outputs": [],
   "source": [
    "def convertTimeElapsedToEpoch(data):\n",
    "\n",
    "    conversionFactors = {'mo': 2600000, 'da': 86400,'ye': 31504000, 'yr': 31504000, 'we': 604800}\n",
    "    \n",
    "    data['timeElapsedEpoch'] = data.apply(lambda x: x['timeElapsed'] * conversionFactors[(x['timeUnit'].lower()[0:2])] , axis=1)\n",
    "    \n",
    "    print 'Added column for time elapsed in Epoch'\n",
    "    \n",
    "    return data"
   ]
  },
  {
   "cell_type": "markdown",
   "metadata": {},
   "source": [
    "Running this conversion:"
   ]
  },
  {
   "cell_type": "code",
   "execution_count": 10,
   "metadata": {
    "collapsed": false
   },
   "outputs": [
    {
     "name": "stdout",
     "output_type": "stream",
     "text": [
      "Added column for time elapsed in Epoch\n"
     ]
    }
   ],
   "source": [
    "cleanedData = convertTimeElapsedToEpoch(cleanedData)"
   ]
  },
  {
   "cell_type": "markdown",
   "metadata": {},
   "source": [
    "Let's clean up the titles by converting everything to ascii"
   ]
  },
  {
   "cell_type": "code",
   "execution_count": 11,
   "metadata": {
    "collapsed": true
   },
   "outputs": [],
   "source": [
    "def cleanTitles(data):\n",
    "    \n",
    "    data['title'] = data['title'].map(lambda x: unicodedata.normalize('NFKD', unicode(x, 'utf-8')).encode('ascii','ignore'))\n",
    "    data['userText'] = data['userText'].map(lambda x: unicodedata.normalize('NFKD', unicode(x, 'utf-8')).encode('ascii','ignore'))\n",
    "    \n",
    "    return data"
   ]
  },
  {
   "cell_type": "code",
   "execution_count": 12,
   "metadata": {
    "collapsed": false
   },
   "outputs": [
    {
     "data": {
      "text/html": [
       "<div style=\"max-height:1000px;max-width:1500px;overflow:auto;\">\n",
       "<table border=\"1\" class=\"dataframe\">\n",
       "  <thead>\n",
       "    <tr style=\"text-align: right;\">\n",
       "      <th></th>\n",
       "      <th>index</th>\n",
       "      <th>permalink</th>\n",
       "      <th>userText</th>\n",
       "      <th>name</th>\n",
       "      <th>author</th>\n",
       "      <th>url</th>\n",
       "      <th>num_comments</th>\n",
       "      <th>endWeight</th>\n",
       "      <th>title</th>\n",
       "      <th>created_utc</th>\n",
       "      <th>...</th>\n",
       "      <th>weightChange</th>\n",
       "      <th>over_18</th>\n",
       "      <th>timeElapsed</th>\n",
       "      <th>gender</th>\n",
       "      <th>timeUnit</th>\n",
       "      <th>startWeight</th>\n",
       "      <th>age</th>\n",
       "      <th>currentBMI</th>\n",
       "      <th>previousBMI</th>\n",
       "      <th>timeElapsedEpoch</th>\n",
       "    </tr>\n",
       "  </thead>\n",
       "  <tbody>\n",
       "    <tr>\n",
       "      <th>0</th>\n",
       "      <td> 0</td>\n",
       "      <td> /r/progresspics/comments/q39ce/2_month_check_i...</td>\n",
       "      <td>  check in 2011/12/9 272lbs (123.4kg) &amp;gt; 2012...</td>\n",
       "      <td> t3_q39ce</td>\n",
       "      <td>       psywiped</td>\n",
       "      <td> http://imgur.com/a/TYPbt</td>\n",
       "      <td> 8</td>\n",
       "      <td>   8.8</td>\n",
       "      <td> 2 Month check in 2011/12/9 272lbs (123.4kg) &amp;g...</td>\n",
       "      <td> 1330040000</td>\n",
       "      <td>...</td>\n",
       "      <td>-261.8</td>\n",
       "      <td> 0</td>\n",
       "      <td> 2</td>\n",
       "      <td> M</td>\n",
       "      <td> Month</td>\n",
       "      <td> 270.6</td>\n",
       "      <td> 28</td>\n",
       "      <td>  0.622837</td>\n",
       "      <td> 19.1522</td>\n",
       "      <td> 5200000</td>\n",
       "    </tr>\n",
       "    <tr>\n",
       "      <th>1</th>\n",
       "      <td> 1</td>\n",
       "      <td> /r/progresspics/comments/rh4q6/302_275_in_a_mo...</td>\n",
       "      <td>  and a half. M/24/5'11\". Only 85 to go! (Warni...</td>\n",
       "      <td> t3_rh4q6</td>\n",
       "      <td> audiophile8706</td>\n",
       "      <td> http://imgur.com/a/SK54I</td>\n",
       "      <td> 4</td>\n",
       "      <td> 275.0</td>\n",
       "      <td> 302 -&amp;gt; 275 in a month and a half. M/24/5'11...</td>\n",
       "      <td> 1332910000</td>\n",
       "      <td>...</td>\n",
       "      <td> -27.0</td>\n",
       "      <td> 0</td>\n",
       "      <td> 1</td>\n",
       "      <td> M</td>\n",
       "      <td> month</td>\n",
       "      <td> 302.0</td>\n",
       "      <td> 24</td>\n",
       "      <td> 39.277900</td>\n",
       "      <td> 43.1343</td>\n",
       "      <td> 2600000</td>\n",
       "    </tr>\n",
       "  </tbody>\n",
       "</table>\n",
       "<p>2 rows × 23 columns</p>\n",
       "</div>"
      ],
      "text/plain": [
       "   index                                          permalink  \\\n",
       "0      0  /r/progresspics/comments/q39ce/2_month_check_i...   \n",
       "1      1  /r/progresspics/comments/rh4q6/302_275_in_a_mo...   \n",
       "\n",
       "                                            userText      name  \\\n",
       "0   check in 2011/12/9 272lbs (123.4kg) &gt; 2012...  t3_q39ce   \n",
       "1   and a half. M/24/5'11\". Only 85 to go! (Warni...  t3_rh4q6   \n",
       "\n",
       "           author                       url  num_comments  endWeight  \\\n",
       "0        psywiped  http://imgur.com/a/TYPbt             8        8.8   \n",
       "1  audiophile8706  http://imgur.com/a/SK54I             4      275.0   \n",
       "\n",
       "                                               title  created_utc  \\\n",
       "0  2 Month check in 2011/12/9 272lbs (123.4kg) &g...   1330040000   \n",
       "1  302 -&gt; 275 in a month and a half. M/24/5'11...   1332910000   \n",
       "\n",
       "      ...       weightChange over_18  timeElapsed  gender  timeUnit  \\\n",
       "0     ...             -261.8       0            2       M     Month   \n",
       "1     ...              -27.0       0            1       M     month   \n",
       "\n",
       "   startWeight age currentBMI  previousBMI  timeElapsedEpoch  \n",
       "0        270.6  28   0.622837      19.1522           5200000  \n",
       "1        302.0  24  39.277900      43.1343           2600000  \n",
       "\n",
       "[2 rows x 23 columns]"
      ]
     },
     "execution_count": 12,
     "metadata": {},
     "output_type": "execute_result"
    }
   ],
   "source": [
    "cleanedData = cleanTitles(cleanedData)\n",
    "cleanedData.head(2)"
   ]
  },
  {
   "cell_type": "markdown",
   "metadata": {},
   "source": [
    "Converting the genders to the same format: Male = 'M' and Female = 'F':"
   ]
  },
  {
   "cell_type": "code",
   "execution_count": 13,
   "metadata": {
    "collapsed": true
   },
   "outputs": [],
   "source": [
    "def convertMaleFemaleToMF(data):\n",
    "    print 'Converting coding to Male-->M and Female-->F'\n",
    "    data['gender'] = data['gender'].map(lambda x: x[0].upper())\n",
    "    \n",
    "    return data"
   ]
  },
  {
   "cell_type": "code",
   "execution_count": 14,
   "metadata": {
    "collapsed": false
   },
   "outputs": [
    {
     "name": "stdout",
     "output_type": "stream",
     "text": [
      "Converting coding to Male-->M and Female-->F\n"
     ]
    }
   ],
   "source": [
    "cleanedData = convertMaleFemaleToMF(cleanedData)"
   ]
  },
  {
   "cell_type": "markdown",
   "metadata": {},
   "source": [
    "Let's get the time units into the same formats (ex: Year should equal ye)"
   ]
  },
  {
   "cell_type": "code",
   "execution_count": 15,
   "metadata": {
    "collapsed": true
   },
   "outputs": [],
   "source": [
    "def standardizeTimeUnits(dataTemp):\n",
    "    data = dataTemp.copy()\n",
    "    print 'Distribution of time units before standardizing:'\n",
    "    print data['timeUnit'].value_counts()\n",
    "    print ''\n",
    "    \n",
    "    data['timeUnit'] = data['timeUnit'].map(lambda x: x[0:2].upper())\n",
    "    data.ix[data['timeUnit'] == 'YR','timeUnit'] = 'YE'\n",
    "    \n",
    "    print 'Distribution of time units after standardizing:'\n",
    "    print data['timeUnit'].value_counts()\n",
    "    \n",
    "    return data"
   ]
  },
  {
   "cell_type": "code",
   "execution_count": 16,
   "metadata": {
    "collapsed": false
   },
   "outputs": [
    {
     "name": "stdout",
     "output_type": "stream",
     "text": [
      "Distribution of time units before standardizing:\n",
      "month    3197\n",
      "years     691\n",
      "year      575\n",
      "Month     320\n",
      "weeks     188\n",
      "yr         57\n",
      "Year       53\n",
      "Years      38\n",
      "week       29\n",
      "Weeks      24\n",
      "MONTH      10\n",
      "Week        3\n",
      "YEAR        2\n",
      "YEARS       2\n",
      "Yr          2\n",
      "YR          2\n",
      "dtype: int64\n",
      "\n",
      "Distribution of time units after standardizing:\n",
      "MO    3527\n",
      "YE    1422\n",
      "WE     244\n",
      "dtype: int64\n"
     ]
    }
   ],
   "source": [
    "cleanedData = standardizeTimeUnits(cleanedData)"
   ]
  },
  {
   "cell_type": "markdown",
   "metadata": {},
   "source": [
    "Removing any row that doesn't have a time unit"
   ]
  },
  {
   "cell_type": "code",
   "execution_count": 17,
   "metadata": {
    "collapsed": true
   },
   "outputs": [],
   "source": [
    "def removeDataWithoutTimeUnit(data):\n",
    "    print 'Distribution of time units before dropping empty time units:'\n",
    "    print data['timeUnit'].value_counts()\n",
    "    \n",
    "    initialRows = data.shape[0]    \n",
    "    \n",
    "    dropIndexes = data['timeUnit'].map(lambda x: x is None)\n",
    "    dropIndexes = dropIndexes[dropIndexes == True].index.map(lambda x: int(x))\n",
    "\n",
    "    data = data.drop(dropIndexes, axis=0)\n",
    "    \n",
    "    print 'Removed ' + str(initialRows - data.shape[0]) + ' samples without TimeUnits. Shape: ' + str(data.shape)\n",
    "    print ''\n",
    "    print 'Distribution of time units before dropping empty time units:'\n",
    "    print data['timeUnit'].value_counts()\n",
    "    return data"
   ]
  },
  {
   "cell_type": "code",
   "execution_count": 18,
   "metadata": {
    "collapsed": false
   },
   "outputs": [
    {
     "name": "stdout",
     "output_type": "stream",
     "text": [
      "Distribution of time units before dropping empty time units:\n",
      "MO    3527\n",
      "YE    1422\n",
      "WE     244\n",
      "dtype: int64\n",
      "Removed 0 samples without TimeUnits. Shape: (5193, 23)\n",
      "\n",
      "Distribution of time units before dropping empty time units:\n",
      "MO    3527\n",
      "YE    1422\n",
      "WE     244\n",
      "dtype: int64\n"
     ]
    }
   ],
   "source": [
    "cleanedData = removeDataWithoutTimeUnit(cleanedData)"
   ]
  },
  {
   "cell_type": "markdown",
   "metadata": {},
   "source": [
    "Finally, we output the data to a SQL table called \"cleanedWeightLossData\""
   ]
  },
  {
   "cell_type": "code",
   "execution_count": 19,
   "metadata": {
    "collapsed": false
   },
   "outputs": [
    {
     "name": "stdout",
     "output_type": "stream",
     "text": [
      "Index([u'index', u'permalink', u'userText', u'name', u'author', u'url', u'num_comments', u'endWeight', u'title', u'created_utc', u'height', u'weightUnit', u'score', u'weightChange', u'over_18', u'timeElapsed', u'gender', u'timeUnit', u'startWeight', u'age', u'currentBMI', u'previousBMI', u'timeElapsedEpoch'], dtype='object')\n",
      "Exported Data to SQL Table (Name: cleanedWeightLossData)\n"
     ]
    },
    {
     "name": "stderr",
     "output_type": "stream",
     "text": [
      "/Users/alexsutherland/anaconda/lib/python2.7/site-packages/pymysql/cursors.py:134: Warning: Unknown table 'redditweightdatabase.cleanedweightlossdata'\n",
      "  result = self._query(query)\n"
     ]
    }
   ],
   "source": [
    "import redditDataIO\n",
    "\n",
    "redditDataIO.exportDataToSQL(cleanedData, 'cleanedWeightLossData')"
   ]
  },
  {
   "cell_type": "markdown",
   "metadata": {},
   "source": []
  }
 ],
 "metadata": {
  "kernelspec": {
   "display_name": "Python 2",
   "language": "python",
   "name": "python2"
  },
  "language_info": {
   "codemirror_mode": {
    "name": "ipython",
    "version": 2
   },
   "file_extension": ".py",
   "mimetype": "text/x-python",
   "name": "python",
   "nbconvert_exporter": "python",
   "pygments_lexer": "ipython2",
   "version": "2.7.10"
  }
 },
 "nbformat": 4,
 "nbformat_minor": 0
}
