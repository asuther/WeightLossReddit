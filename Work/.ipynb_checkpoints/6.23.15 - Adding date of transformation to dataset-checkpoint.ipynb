{
 "cells": [
  {
   "cell_type": "markdown",
   "metadata": {},
   "source": [
    "#Adding date of transformation to dataset and splitting into unqiue/repeat users"
   ]
  },
  {
   "cell_type": "code",
   "execution_count": 2,
   "metadata": {
    "collapsed": true
   },
   "outputs": [],
   "source": [
    "import sys\n",
    "sys.path.append('/Users/alexsutherland/Dropbox/Insight/WeightLossReddit/')\n",
    "import redditDataIO\n",
    "import pandas as pd\n",
    "import numpy as np\n",
    "import os\n",
    "os.chdir('/Users/alexsutherland/Dropbox/Insight/WeightLossReddit/')"
   ]
  },
  {
   "cell_type": "code",
   "execution_count": 3,
   "metadata": {
    "collapsed": false,
    "scrolled": true
   },
   "outputs": [
    {
     "data": {
      "text/html": [
       "<div style=\"max-height:1000px;max-width:1500px;overflow:auto;\">\n",
       "<table border=\"1\" class=\"dataframe\">\n",
       "  <thead>\n",
       "    <tr style=\"text-align: right;\">\n",
       "      <th></th>\n",
       "      <th>index</th>\n",
       "      <th>permalink</th>\n",
       "      <th>userText</th>\n",
       "      <th>name</th>\n",
       "      <th>author</th>\n",
       "      <th>url</th>\n",
       "      <th>num_comments</th>\n",
       "      <th>endWeight</th>\n",
       "      <th>title</th>\n",
       "      <th>created_utc</th>\n",
       "      <th>...</th>\n",
       "      <th>currentBMI</th>\n",
       "      <th>previousBMI</th>\n",
       "      <th>timeElapsedEpoch</th>\n",
       "      <th>timeElapsedMonths</th>\n",
       "      <th>weightChangeRate</th>\n",
       "      <th>username</th>\n",
       "      <th>fitnessCommentCount</th>\n",
       "      <th>totalCommentCount</th>\n",
       "      <th>fitnessCommentFraction</th>\n",
       "      <th>sentimentScores</th>\n",
       "    </tr>\n",
       "  </thead>\n",
       "  <tbody>\n",
       "    <tr>\n",
       "      <th>0</th>\n",
       "      <td> 0</td>\n",
       "      <td> /r/progresspics/comments/1ak3q9/m2260_my_girlf...</td>\n",
       "      <td> , 202 to 187. Planning on losing a few more, t...</td>\n",
       "      <td> t3_1ak3q9</td>\n",
       "      <td> BrovietUnion1</td>\n",
       "      <td>                          http://imgur.com/a/JErVf</td>\n",
       "      <td> 36</td>\n",
       "      <td> 187</td>\n",
       "      <td> [M/22/6'0\"] My girlfriend said I was getting f...</td>\n",
       "      <td> 1363650000</td>\n",
       "      <td>...</td>\n",
       "      <td> 25.9722</td>\n",
       "      <td> 28.0556</td>\n",
       "      <td>  4838400</td>\n",
       "      <td>  1.86667</td>\n",
       "      <td>-8.035710</td>\n",
       "      <td> BrovietUnion1</td>\n",
       "      <td> 34</td>\n",
       "      <td>  46</td>\n",
       "      <td> 0.739130</td>\n",
       "      <td> 0</td>\n",
       "    </tr>\n",
       "    <tr>\n",
       "      <th>1</th>\n",
       "      <td> 1</td>\n",
       "      <td> /r/progresspics/comments/1fay80/update_m2260_2...</td>\n",
       "      <td> . Final progress pics. Girlfriend said I was g...</td>\n",
       "      <td> t3_1fay80</td>\n",
       "      <td> BrovietUnion1</td>\n",
       "      <td>                          http://imgur.com/a/UEu89</td>\n",
       "      <td> 29</td>\n",
       "      <td> 177</td>\n",
       "      <td> Update: M/22/6'0\", 202 to 177lbs in 20 weeks. ...</td>\n",
       "      <td> 1369870000</td>\n",
       "      <td>...</td>\n",
       "      <td> 24.5833</td>\n",
       "      <td> 28.0556</td>\n",
       "      <td> 12096000</td>\n",
       "      <td>  4.66667</td>\n",
       "      <td>-5.357140</td>\n",
       "      <td> BrovietUnion1</td>\n",
       "      <td> 34</td>\n",
       "      <td>  46</td>\n",
       "      <td> 0.739130</td>\n",
       "      <td> 3</td>\n",
       "    </tr>\n",
       "    <tr>\n",
       "      <th>2</th>\n",
       "      <td> 2</td>\n",
       "      <td> /r/progresspics/comments/2owbfv/update_m2460_1...</td>\n",
       "      <td>  later, got fat again! My girlfriend broke up ...</td>\n",
       "      <td> t3_2owbfv</td>\n",
       "      <td> BrovietUnion1</td>\n",
       "      <td>                    http://i.imgur.com/a5T6Axx.jpg</td>\n",
       "      <td> 17</td>\n",
       "      <td> 185</td>\n",
       "      <td> Update [M/24/6'0\"]: 1.5 years later, got fat a...</td>\n",
       "      <td> 1418240000</td>\n",
       "      <td>...</td>\n",
       "      <td> 25.6944</td>\n",
       "      <td> 27.0833</td>\n",
       "      <td> 47256000</td>\n",
       "      <td> 18.23150</td>\n",
       "      <td>-0.548502</td>\n",
       "      <td> BrovietUnion1</td>\n",
       "      <td> 34</td>\n",
       "      <td>  46</td>\n",
       "      <td> 0.739130</td>\n",
       "      <td> 1</td>\n",
       "    </tr>\n",
       "    <tr>\n",
       "      <th>3</th>\n",
       "      <td> 3</td>\n",
       "      <td> /r/progresspics/comments/1atru0/f1854_149131_l...</td>\n",
       "      <td> s doing C25K and completely changing my eating...</td>\n",
       "      <td> t3_1atru0</td>\n",
       "      <td>    grannytoes</td>\n",
       "      <td>                          http://imgur.com/a/csBjW</td>\n",
       "      <td>  9</td>\n",
       "      <td> 131</td>\n",
       "      <td> F/18/5'4\" 149-131 lbs (18lbs lost!) over appro...</td>\n",
       "      <td> 1363990000</td>\n",
       "      <td>...</td>\n",
       "      <td> 23.0273</td>\n",
       "      <td> 26.1914</td>\n",
       "      <td>  5200000</td>\n",
       "      <td>  2.00617</td>\n",
       "      <td>-8.972310</td>\n",
       "      <td>    grannytoes</td>\n",
       "      <td> 35</td>\n",
       "      <td> 841</td>\n",
       "      <td> 0.041617</td>\n",
       "      <td> 5</td>\n",
       "    </tr>\n",
       "    <tr>\n",
       "      <th>4</th>\n",
       "      <td> 4</td>\n",
       "      <td> /r/progresspics/comments/1mx62l/f1854_150_120l...</td>\n",
       "      <td>                         s) and it's not over yet!</td>\n",
       "      <td> t3_1mx62l</td>\n",
       "      <td>    grannytoes</td>\n",
       "      <td> http://www.reddit.com/r/progresspics/comments/...</td>\n",
       "      <td> 14</td>\n",
       "      <td> 120</td>\n",
       "      <td> F/18/5'4\" [150 &amp;gt; 120lbs = 30lbs] (6 months)...</td>\n",
       "      <td> 1379890000</td>\n",
       "      <td>...</td>\n",
       "      <td> 21.0938</td>\n",
       "      <td> 26.3672</td>\n",
       "      <td> 15600000</td>\n",
       "      <td>  6.01852</td>\n",
       "      <td>-4.984620</td>\n",
       "      <td>    grannytoes</td>\n",
       "      <td> 35</td>\n",
       "      <td> 841</td>\n",
       "      <td> 0.041617</td>\n",
       "      <td> 0</td>\n",
       "    </tr>\n",
       "  </tbody>\n",
       "</table>\n",
       "<p>5 rows × 30 columns</p>\n",
       "</div>"
      ],
      "text/plain": [
       "   index                                          permalink  \\\n",
       "0      0  /r/progresspics/comments/1ak3q9/m2260_my_girlf...   \n",
       "1      1  /r/progresspics/comments/1fay80/update_m2260_2...   \n",
       "2      2  /r/progresspics/comments/2owbfv/update_m2460_1...   \n",
       "3      3  /r/progresspics/comments/1atru0/f1854_149131_l...   \n",
       "4      4  /r/progresspics/comments/1mx62l/f1854_150_120l...   \n",
       "\n",
       "                                            userText       name  \\\n",
       "0  , 202 to 187. Planning on losing a few more, t...  t3_1ak3q9   \n",
       "1  . Final progress pics. Girlfriend said I was g...  t3_1fay80   \n",
       "2   later, got fat again! My girlfriend broke up ...  t3_2owbfv   \n",
       "3  s doing C25K and completely changing my eating...  t3_1atru0   \n",
       "4                          s) and it's not over yet!  t3_1mx62l   \n",
       "\n",
       "          author                                                url  \\\n",
       "0  BrovietUnion1                           http://imgur.com/a/JErVf   \n",
       "1  BrovietUnion1                           http://imgur.com/a/UEu89   \n",
       "2  BrovietUnion1                     http://i.imgur.com/a5T6Axx.jpg   \n",
       "3     grannytoes                           http://imgur.com/a/csBjW   \n",
       "4     grannytoes  http://www.reddit.com/r/progresspics/comments/...   \n",
       "\n",
       "   num_comments  endWeight                                              title  \\\n",
       "0            36        187  [M/22/6'0\"] My girlfriend said I was getting f...   \n",
       "1            29        177  Update: M/22/6'0\", 202 to 177lbs in 20 weeks. ...   \n",
       "2            17        185  Update [M/24/6'0\"]: 1.5 years later, got fat a...   \n",
       "3             9        131  F/18/5'4\" 149-131 lbs (18lbs lost!) over appro...   \n",
       "4            14        120  F/18/5'4\" [150 &gt; 120lbs = 30lbs] (6 months)...   \n",
       "\n",
       "   created_utc     ...       currentBMI previousBMI  timeElapsedEpoch  \\\n",
       "0   1363650000     ...          25.9722     28.0556           4838400   \n",
       "1   1369870000     ...          24.5833     28.0556          12096000   \n",
       "2   1418240000     ...          25.6944     27.0833          47256000   \n",
       "3   1363990000     ...          23.0273     26.1914           5200000   \n",
       "4   1379890000     ...          21.0938     26.3672          15600000   \n",
       "\n",
       "   timeElapsedMonths  weightChangeRate       username fitnessCommentCount  \\\n",
       "0            1.86667         -8.035710  BrovietUnion1                  34   \n",
       "1            4.66667         -5.357140  BrovietUnion1                  34   \n",
       "2           18.23150         -0.548502  BrovietUnion1                  34   \n",
       "3            2.00617         -8.972310     grannytoes                  35   \n",
       "4            6.01852         -4.984620     grannytoes                  35   \n",
       "\n",
       "  totalCommentCount  fitnessCommentFraction  sentimentScores  \n",
       "0                46                0.739130                0  \n",
       "1                46                0.739130                3  \n",
       "2                46                0.739130                1  \n",
       "3               841                0.041617                5  \n",
       "4               841                0.041617                0  \n",
       "\n",
       "[5 rows x 30 columns]"
      ]
     },
     "execution_count": 3,
     "metadata": {},
     "output_type": "execute_result"
    }
   ],
   "source": [
    "fullWeightLossData = redditDataIO.loadData('combinedSentiment')\n",
    "fullWeightLossData['weightChange'] = fullWeightLossData['weightChange']*-1\n",
    "fullWeightLossData.head()"
   ]
  },
  {
   "cell_type": "markdown",
   "metadata": {},
   "source": [
    "Let's get the date of transformation:"
   ]
  },
  {
   "cell_type": "code",
   "execution_count": 4,
   "metadata": {
    "collapsed": false
   },
   "outputs": [],
   "source": [
    "import time\n",
    "\n",
    "startDateEpoch = fullWeightLossData['created_utc'] - fullWeightLossData['timeElapsedEpoch']\n",
    "\n",
    "fullWeightLossData['startDateMonthName'] = startDateEpoch.map(lambda x: time.strftime('%B',  time.gmtime(x)))\n",
    "fullWeightLossData['startDateMonth'] = startDateEpoch.map(lambda x: int(time.strftime('%m',  time.gmtime(x))))\n"
   ]
  },
  {
   "cell_type": "code",
   "execution_count": 5,
   "metadata": {
    "collapsed": false,
    "scrolled": true
   },
   "outputs": [
    {
     "data": {
      "text/html": [
       "<div style=\"max-height:1000px;max-width:1500px;overflow:auto;\">\n",
       "<table border=\"1\" class=\"dataframe\">\n",
       "  <thead>\n",
       "    <tr style=\"text-align: right;\">\n",
       "      <th></th>\n",
       "      <th>index</th>\n",
       "      <th>permalink</th>\n",
       "      <th>userText</th>\n",
       "      <th>name</th>\n",
       "      <th>author</th>\n",
       "      <th>url</th>\n",
       "      <th>num_comments</th>\n",
       "      <th>endWeight</th>\n",
       "      <th>title</th>\n",
       "      <th>created_utc</th>\n",
       "      <th>...</th>\n",
       "      <th>timeElapsedEpoch</th>\n",
       "      <th>timeElapsedMonths</th>\n",
       "      <th>weightChangeRate</th>\n",
       "      <th>username</th>\n",
       "      <th>fitnessCommentCount</th>\n",
       "      <th>totalCommentCount</th>\n",
       "      <th>fitnessCommentFraction</th>\n",
       "      <th>sentimentScores</th>\n",
       "      <th>startDateMonthName</th>\n",
       "      <th>startDateMonth</th>\n",
       "    </tr>\n",
       "  </thead>\n",
       "  <tbody>\n",
       "    <tr>\n",
       "      <th>0</th>\n",
       "      <td> 0</td>\n",
       "      <td> /r/progresspics/comments/1ak3q9/m2260_my_girlf...</td>\n",
       "      <td> , 202 to 187. Planning on losing a few more, t...</td>\n",
       "      <td> t3_1ak3q9</td>\n",
       "      <td> BrovietUnion1</td>\n",
       "      <td>                          http://imgur.com/a/JErVf</td>\n",
       "      <td> 36</td>\n",
       "      <td> 187</td>\n",
       "      <td> [M/22/6'0\"] My girlfriend said I was getting f...</td>\n",
       "      <td> 1363650000</td>\n",
       "      <td>...</td>\n",
       "      <td>  4838400</td>\n",
       "      <td>  1.86667</td>\n",
       "      <td>-8.035710</td>\n",
       "      <td> BrovietUnion1</td>\n",
       "      <td> 34</td>\n",
       "      <td>  46</td>\n",
       "      <td> 0.739130</td>\n",
       "      <td> 0</td>\n",
       "      <td> January</td>\n",
       "      <td> 1</td>\n",
       "    </tr>\n",
       "    <tr>\n",
       "      <th>1</th>\n",
       "      <td> 1</td>\n",
       "      <td> /r/progresspics/comments/1fay80/update_m2260_2...</td>\n",
       "      <td> . Final progress pics. Girlfriend said I was g...</td>\n",
       "      <td> t3_1fay80</td>\n",
       "      <td> BrovietUnion1</td>\n",
       "      <td>                          http://imgur.com/a/UEu89</td>\n",
       "      <td> 29</td>\n",
       "      <td> 177</td>\n",
       "      <td> Update: M/22/6'0\", 202 to 177lbs in 20 weeks. ...</td>\n",
       "      <td> 1369870000</td>\n",
       "      <td>...</td>\n",
       "      <td> 12096000</td>\n",
       "      <td>  4.66667</td>\n",
       "      <td>-5.357140</td>\n",
       "      <td> BrovietUnion1</td>\n",
       "      <td> 34</td>\n",
       "      <td>  46</td>\n",
       "      <td> 0.739130</td>\n",
       "      <td> 3</td>\n",
       "      <td> January</td>\n",
       "      <td> 1</td>\n",
       "    </tr>\n",
       "    <tr>\n",
       "      <th>2</th>\n",
       "      <td> 2</td>\n",
       "      <td> /r/progresspics/comments/2owbfv/update_m2460_1...</td>\n",
       "      <td>  later, got fat again! My girlfriend broke up ...</td>\n",
       "      <td> t3_2owbfv</td>\n",
       "      <td> BrovietUnion1</td>\n",
       "      <td>                    http://i.imgur.com/a5T6Axx.jpg</td>\n",
       "      <td> 17</td>\n",
       "      <td> 185</td>\n",
       "      <td> Update [M/24/6'0\"]: 1.5 years later, got fat a...</td>\n",
       "      <td> 1418240000</td>\n",
       "      <td>...</td>\n",
       "      <td> 47256000</td>\n",
       "      <td> 18.23150</td>\n",
       "      <td>-0.548502</td>\n",
       "      <td> BrovietUnion1</td>\n",
       "      <td> 34</td>\n",
       "      <td>  46</td>\n",
       "      <td> 0.739130</td>\n",
       "      <td> 1</td>\n",
       "      <td>    June</td>\n",
       "      <td> 6</td>\n",
       "    </tr>\n",
       "    <tr>\n",
       "      <th>3</th>\n",
       "      <td> 3</td>\n",
       "      <td> /r/progresspics/comments/1atru0/f1854_149131_l...</td>\n",
       "      <td> s doing C25K and completely changing my eating...</td>\n",
       "      <td> t3_1atru0</td>\n",
       "      <td>    grannytoes</td>\n",
       "      <td>                          http://imgur.com/a/csBjW</td>\n",
       "      <td>  9</td>\n",
       "      <td> 131</td>\n",
       "      <td> F/18/5'4\" 149-131 lbs (18lbs lost!) over appro...</td>\n",
       "      <td> 1363990000</td>\n",
       "      <td>...</td>\n",
       "      <td>  5200000</td>\n",
       "      <td>  2.00617</td>\n",
       "      <td>-8.972310</td>\n",
       "      <td>    grannytoes</td>\n",
       "      <td> 35</td>\n",
       "      <td> 841</td>\n",
       "      <td> 0.041617</td>\n",
       "      <td> 5</td>\n",
       "      <td> January</td>\n",
       "      <td> 1</td>\n",
       "    </tr>\n",
       "    <tr>\n",
       "      <th>4</th>\n",
       "      <td> 4</td>\n",
       "      <td> /r/progresspics/comments/1mx62l/f1854_150_120l...</td>\n",
       "      <td>                         s) and it's not over yet!</td>\n",
       "      <td> t3_1mx62l</td>\n",
       "      <td>    grannytoes</td>\n",
       "      <td> http://www.reddit.com/r/progresspics/comments/...</td>\n",
       "      <td> 14</td>\n",
       "      <td> 120</td>\n",
       "      <td> F/18/5'4\" [150 &amp;gt; 120lbs = 30lbs] (6 months)...</td>\n",
       "      <td> 1379890000</td>\n",
       "      <td>...</td>\n",
       "      <td> 15600000</td>\n",
       "      <td>  6.01852</td>\n",
       "      <td>-4.984620</td>\n",
       "      <td>    grannytoes</td>\n",
       "      <td> 35</td>\n",
       "      <td> 841</td>\n",
       "      <td> 0.041617</td>\n",
       "      <td> 0</td>\n",
       "      <td>   March</td>\n",
       "      <td> 3</td>\n",
       "    </tr>\n",
       "  </tbody>\n",
       "</table>\n",
       "<p>5 rows × 32 columns</p>\n",
       "</div>"
      ],
      "text/plain": [
       "   index                                          permalink  \\\n",
       "0      0  /r/progresspics/comments/1ak3q9/m2260_my_girlf...   \n",
       "1      1  /r/progresspics/comments/1fay80/update_m2260_2...   \n",
       "2      2  /r/progresspics/comments/2owbfv/update_m2460_1...   \n",
       "3      3  /r/progresspics/comments/1atru0/f1854_149131_l...   \n",
       "4      4  /r/progresspics/comments/1mx62l/f1854_150_120l...   \n",
       "\n",
       "                                            userText       name  \\\n",
       "0  , 202 to 187. Planning on losing a few more, t...  t3_1ak3q9   \n",
       "1  . Final progress pics. Girlfriend said I was g...  t3_1fay80   \n",
       "2   later, got fat again! My girlfriend broke up ...  t3_2owbfv   \n",
       "3  s doing C25K and completely changing my eating...  t3_1atru0   \n",
       "4                          s) and it's not over yet!  t3_1mx62l   \n",
       "\n",
       "          author                                                url  \\\n",
       "0  BrovietUnion1                           http://imgur.com/a/JErVf   \n",
       "1  BrovietUnion1                           http://imgur.com/a/UEu89   \n",
       "2  BrovietUnion1                     http://i.imgur.com/a5T6Axx.jpg   \n",
       "3     grannytoes                           http://imgur.com/a/csBjW   \n",
       "4     grannytoes  http://www.reddit.com/r/progresspics/comments/...   \n",
       "\n",
       "   num_comments  endWeight                                              title  \\\n",
       "0            36        187  [M/22/6'0\"] My girlfriend said I was getting f...   \n",
       "1            29        177  Update: M/22/6'0\", 202 to 177lbs in 20 weeks. ...   \n",
       "2            17        185  Update [M/24/6'0\"]: 1.5 years later, got fat a...   \n",
       "3             9        131  F/18/5'4\" 149-131 lbs (18lbs lost!) over appro...   \n",
       "4            14        120  F/18/5'4\" [150 &gt; 120lbs = 30lbs] (6 months)...   \n",
       "\n",
       "   created_utc     ...       timeElapsedEpoch timeElapsedMonths  \\\n",
       "0   1363650000     ...                4838400           1.86667   \n",
       "1   1369870000     ...               12096000           4.66667   \n",
       "2   1418240000     ...               47256000          18.23150   \n",
       "3   1363990000     ...                5200000           2.00617   \n",
       "4   1379890000     ...               15600000           6.01852   \n",
       "\n",
       "   weightChangeRate       username  fitnessCommentCount  totalCommentCount  \\\n",
       "0         -8.035710  BrovietUnion1                   34                 46   \n",
       "1         -5.357140  BrovietUnion1                   34                 46   \n",
       "2         -0.548502  BrovietUnion1                   34                 46   \n",
       "3         -8.972310     grannytoes                   35                841   \n",
       "4         -4.984620     grannytoes                   35                841   \n",
       "\n",
       "  fitnessCommentFraction sentimentScores  startDateMonthName  startDateMonth  \n",
       "0               0.739130               0             January               1  \n",
       "1               0.739130               3             January               1  \n",
       "2               0.739130               1                June               6  \n",
       "3               0.041617               5             January               1  \n",
       "4               0.041617               0               March               3  \n",
       "\n",
       "[5 rows x 32 columns]"
      ]
     },
     "execution_count": 5,
     "metadata": {},
     "output_type": "execute_result"
    }
   ],
   "source": [
    "fullWeightLossData.head()"
   ]
  },
  {
   "cell_type": "markdown",
   "metadata": {},
   "source": [
    "Let's see if a certain month is best to start in:"
   ]
  },
  {
   "cell_type": "code",
   "execution_count": 6,
   "metadata": {
    "collapsed": false
   },
   "outputs": [
    {
     "data": {
      "text/html": [
       "<div style=\"max-height:1000px;max-width:1500px;overflow:auto;\">\n",
       "<table border=\"1\" class=\"dataframe\">\n",
       "  <thead>\n",
       "    <tr style=\"text-align: right;\">\n",
       "      <th></th>\n",
       "      <th>startDateMonth</th>\n",
       "      <th>meanWeightChange</th>\n",
       "      <th>stdWeightChange</th>\n",
       "      <th>medianWeightChange</th>\n",
       "      <th>count</th>\n",
       "      <th>meanMonthsElapsed</th>\n",
       "    </tr>\n",
       "  </thead>\n",
       "  <tbody>\n",
       "    <tr>\n",
       "      <th>0 </th>\n",
       "      <td>  1</td>\n",
       "      <td> 52.294690</td>\n",
       "      <td> 44.052382</td>\n",
       "      <td> 41.0</td>\n",
       "      <td> 452</td>\n",
       "      <td> 10.968157</td>\n",
       "    </tr>\n",
       "    <tr>\n",
       "      <th>1 </th>\n",
       "      <td>  2</td>\n",
       "      <td> 54.566154</td>\n",
       "      <td> 41.080312</td>\n",
       "      <td> 45.0</td>\n",
       "      <td> 325</td>\n",
       "      <td> 12.195867</td>\n",
       "    </tr>\n",
       "    <tr>\n",
       "      <th>2 </th>\n",
       "      <td>  3</td>\n",
       "      <td> 53.554572</td>\n",
       "      <td> 37.620015</td>\n",
       "      <td> 45.0</td>\n",
       "      <td> 339</td>\n",
       "      <td> 13.942285</td>\n",
       "    </tr>\n",
       "    <tr>\n",
       "      <th>3 </th>\n",
       "      <td>  4</td>\n",
       "      <td> 55.876437</td>\n",
       "      <td> 37.279290</td>\n",
       "      <td> 46.5</td>\n",
       "      <td> 348</td>\n",
       "      <td> 13.828197</td>\n",
       "    </tr>\n",
       "    <tr>\n",
       "      <th>4 </th>\n",
       "      <td>  5</td>\n",
       "      <td> 51.555882</td>\n",
       "      <td> 35.460558</td>\n",
       "      <td> 41.5</td>\n",
       "      <td> 340</td>\n",
       "      <td> 12.552914</td>\n",
       "    </tr>\n",
       "    <tr>\n",
       "      <th>5 </th>\n",
       "      <td>  6</td>\n",
       "      <td> 47.682353</td>\n",
       "      <td> 32.502221</td>\n",
       "      <td> 39.0</td>\n",
       "      <td> 340</td>\n",
       "      <td> 12.506908</td>\n",
       "    </tr>\n",
       "    <tr>\n",
       "      <th>6 </th>\n",
       "      <td>  7</td>\n",
       "      <td> 53.561644</td>\n",
       "      <td> 36.943808</td>\n",
       "      <td> 43.0</td>\n",
       "      <td> 292</td>\n",
       "      <td> 12.871185</td>\n",
       "    </tr>\n",
       "    <tr>\n",
       "      <th>7 </th>\n",
       "      <td>  8</td>\n",
       "      <td> 53.766667</td>\n",
       "      <td> 42.231488</td>\n",
       "      <td> 42.5</td>\n",
       "      <td> 330</td>\n",
       "      <td> 12.639933</td>\n",
       "    </tr>\n",
       "    <tr>\n",
       "      <th>8 </th>\n",
       "      <td>  9</td>\n",
       "      <td> 51.351916</td>\n",
       "      <td> 32.506129</td>\n",
       "      <td> 47.0</td>\n",
       "      <td> 287</td>\n",
       "      <td> 11.699336</td>\n",
       "    </tr>\n",
       "    <tr>\n",
       "      <th>9 </th>\n",
       "      <td> 10</td>\n",
       "      <td> 54.949833</td>\n",
       "      <td> 35.639331</td>\n",
       "      <td> 47.0</td>\n",
       "      <td> 299</td>\n",
       "      <td> 13.254498</td>\n",
       "    </tr>\n",
       "    <tr>\n",
       "      <th>10</th>\n",
       "      <td> 11</td>\n",
       "      <td> 54.912698</td>\n",
       "      <td> 36.881207</td>\n",
       "      <td> 49.0</td>\n",
       "      <td> 252</td>\n",
       "      <td> 14.722584</td>\n",
       "    </tr>\n",
       "    <tr>\n",
       "      <th>11</th>\n",
       "      <td> 12</td>\n",
       "      <td> 49.092386</td>\n",
       "      <td> 34.756924</td>\n",
       "      <td> 41.0</td>\n",
       "      <td> 394</td>\n",
       "      <td> 11.336328</td>\n",
       "    </tr>\n",
       "  </tbody>\n",
       "</table>\n",
       "</div>"
      ],
      "text/plain": [
       "    startDateMonth  meanWeightChange  stdWeightChange  medianWeightChange  \\\n",
       "0                1         52.294690        44.052382                41.0   \n",
       "1                2         54.566154        41.080312                45.0   \n",
       "2                3         53.554572        37.620015                45.0   \n",
       "3                4         55.876437        37.279290                46.5   \n",
       "4                5         51.555882        35.460558                41.5   \n",
       "5                6         47.682353        32.502221                39.0   \n",
       "6                7         53.561644        36.943808                43.0   \n",
       "7                8         53.766667        42.231488                42.5   \n",
       "8                9         51.351916        32.506129                47.0   \n",
       "9               10         54.949833        35.639331                47.0   \n",
       "10              11         54.912698        36.881207                49.0   \n",
       "11              12         49.092386        34.756924                41.0   \n",
       "\n",
       "    count  meanMonthsElapsed  \n",
       "0     452          10.968157  \n",
       "1     325          12.195867  \n",
       "2     339          13.942285  \n",
       "3     348          13.828197  \n",
       "4     340          12.552914  \n",
       "5     340          12.506908  \n",
       "6     292          12.871185  \n",
       "7     330          12.639933  \n",
       "8     287          11.699336  \n",
       "9     299          13.254498  \n",
       "10    252          14.722584  \n",
       "11    394          11.336328  "
      ]
     },
     "execution_count": 6,
     "metadata": {},
     "output_type": "execute_result"
    }
   ],
   "source": [
    "meanWeightLostByMonth = fullWeightLossData.groupby(['startDateMonth'])['weightChange'].mean()\n",
    "stdWeightLostByMonth = fullWeightLossData.groupby(['startDateMonth'])['weightChange'].std()\n",
    "medianWeightLostByMonth = fullWeightLossData.groupby(['startDateMonth'])['weightChange'].median()\n",
    "countWeightLostByMonth = fullWeightLossData.groupby(['startDateMonth'])['weightChange'].count()\n",
    "meanTimeElapsedByMonth = fullWeightLossData.groupby(['startDateMonth'])['timeElapsedMonths'].mean()\n",
    "\n",
    "weightLostByMonth = pd.concat([meanWeightLostByMonth, stdWeightLostByMonth, medianWeightLostByMonth,countWeightLostByMonth,meanTimeElapsedByMonth], axis=1)\n",
    "\n",
    "weightLostByMonth.columns = ['meanWeightChange','stdWeightChange','medianWeightChange','count','meanMonthsElapsed']\n",
    "weightLostByMonth = weightLostByMonth.reset_index()\n",
    "weightLostByMonth"
   ]
  },
  {
   "cell_type": "markdown",
   "metadata": {},
   "source": [
    "This is pretty significant, let's plot it see what it looks like:"
   ]
  },
  {
   "cell_type": "code",
   "execution_count": 7,
   "metadata": {
    "collapsed": false
   },
   "outputs": [],
   "source": [
    "%matplotlib inline\n",
    "\n",
    "import matplotlib.pyplot as plt\n",
    "from pylab import rcParams\n",
    "rcParams['figure.figsize'] = 8,8\n",
    "import seaborn as sns"
   ]
  },
  {
   "cell_type": "code",
   "execution_count": 8,
   "metadata": {
    "collapsed": false
   },
   "outputs": [
    {
     "data": {
      "text/plain": [
       "<seaborn.axisgrid.FacetGrid at 0x10776ca90>"
      ]
     },
     "execution_count": 8,
     "metadata": {},
     "output_type": "execute_result"
    },
    {
     "data": {
      "image/png": "[encoded data removed]",
      "text/plain": [
       "<matplotlib.figure.Figure at 0x10776ce90>"
      ]
     },
     "metadata": {},
     "output_type": "display_data"
    }
   ],
   "source": [
    "sns.lmplot(x='startDateMonth', y='meanWeightChange', data=weightLostByMonth)"
   ]
  },
  {
   "cell_type": "markdown",
   "metadata": {},
   "source": [
    "We want to get an error for each month:"
   ]
  },
  {
   "cell_type": "code",
   "execution_count": 9,
   "metadata": {
    "collapsed": false
   },
   "outputs": [
    {
     "data": {
      "text/plain": [
       "<seaborn.axisgrid.FacetGrid at 0x10776c3d0>"
      ]
     },
     "execution_count": 9,
     "metadata": {},
     "output_type": "execute_result"
    },
    {
     "data": {
      "image/png": "[encoded data removed]",
      "text/plain": [
       "<matplotlib.figure.Figure at 0x10776c8d0>"
      ]
     },
     "metadata": {},
     "output_type": "display_data"
    }
   ],
   "source": [
    "sns.lmplot(x='startDateMonth', y='weightChange', data=fullWeightLossData, x_jitter=0.3)"
   ]
  },
  {
   "cell_type": "code",
   "execution_count": 13,
   "metadata": {
    "collapsed": false,
    "scrolled": false
   },
   "outputs": [
    {
     "data": {
      "text/plain": [
       "<seaborn.axisgrid.FacetGrid at 0x10cd90290>"
      ]
     },
     "execution_count": 13,
     "metadata": {},
     "output_type": "execute_result"
    },
    {
     "data": {
      "image/png": "[encoded data removed]",
      "text/plain": [
       "<matplotlib.figure.Figure at 0x10cd90310>"
      ]
     },
     "metadata": {},
     "output_type": "display_data"
    }
   ],
   "source": [
    "sns.set_context(\"notebook\", font_scale=1.5, rc={\"lines.linewidth\": 2.5})\n",
    "\n",
    "lmPlot2 = sns.lmplot(x='startDateMonth', y='weightChange', data=fullWeightLossData, x_estimator=np.mean, ci=95, size=10)\n",
    "plt.gca().set_title('Mean Weight Change vs. Start Month')\n",
    "plt.xticks(np.arange(1,13))\n",
    "lmPlot2.set_xticklabels(['Jan','Feb','Mar','Apr','May','Jun','Jul','Aug','Sep','Oct','Nov','Dec'])"
   ]
  },
  {
   "cell_type": "markdown",
   "metadata": {},
   "source": [
    "This shows people who start their weight loss in June lose significantly less weight than other months. There is a slight reduction in December, though it's not significant"
   ]
  },
  {
   "cell_type": "markdown",
   "metadata": {},
   "source": [
    "Let's check if this is statistically significant"
   ]
  },
  {
   "cell_type": "code",
   "execution_count": 15,
   "metadata": {
    "collapsed": false
   },
   "outputs": [
    {
     "name": "stdout",
     "output_type": "stream",
     "text": [
      "Jan: p = 0.773538439655\n",
      "Feb: p = 0.056263237922\n",
      "Mar: p = 0.0528800905908\n",
      "Apr: p = 0.000929542265061\n",
      "May: p = 0.162020342208\n",
      "Jun: p = 1.0\n",
      "Jul: p = 0.0340806166769\n",
      "Aug: p = 0.0999565710721\n",
      "Sep: p = 0.0533556604634\n",
      "Oct: p = 0.00181349873099\n",
      "Nov: p = 0.00918402948731\n",
      "Dec: p = 0.493596284551\n"
     ]
    }
   ],
   "source": [
    "import scipy.stats\n",
    "monthNames = ['Jan','Feb','Mar','Apr','May','Jun','Jul','Aug','Sep','Oct','Nov','Dec']\n",
    "\n",
    "for monthIndex in np.arange(1,13):\n",
    "    print monthNames[monthIndex-1] + ': p =',\n",
    "    print scipy.stats.ranksums(fullWeightLossData.ix[fullWeightLossData['startDateMonth'] == monthIndex,'weightChange'],fullWeightLossData.ix[fullWeightLossData['startDateMonth'] == 6,'weightChange'])[1]"
   ]
  },
  {
   "cell_type": "code",
   "execution_count": 22,
   "metadata": {
    "collapsed": false
   },
   "outputs": [
    {
     "name": "stdout",
     "output_type": "stream",
     "text": [
      "0.00416666666667\n",
      "Jan: p = 0.0271333700729\n",
      "Feb: p = 0.696985460845\n",
      "Mar: p = 0.579025774328\n",
      "Apr: p = 0.0220177107354\n",
      "May: p = 0.65619712553\n",
      "Jun: p = 0.0127192201794\n",
      "Jul: p = 0.469515043304\n",
      "Aug: p = 0.986314795874\n",
      "Sep: p = 0.734374695929\n",
      "Oct: p = 0.0516634835734\n",
      "Nov: p = 0.158415535972\n",
      "Dec: p = 0.0794291376827\n"
     ]
    }
   ],
   "source": [
    "print 0.05/12\n",
    "for monthIndex in np.arange(1,13):\n",
    "    print monthNames[monthIndex-1] + ': p =',\n",
    "    print scipy.stats.ranksums(fullWeightLossData.ix[fullWeightLossData['startDateMonth'] != monthIndex,'weightChange'],fullWeightLossData.ix[fullWeightLossData['startDateMonth'] == monthIndex,'weightChange'])[1]"
   ]
  },
  {
   "cell_type": "code",
   "execution_count": 20,
   "metadata": {
    "collapsed": false
   },
   "outputs": [
    {
     "data": {
      "text/plain": [
       "(0, 150)"
      ]
     },
     "execution_count": 20,
     "metadata": {},
     "output_type": "execute_result"
    },
    {
     "data": {
      "image/png": "[encoded data removed]",
      "text/plain": [
       "<matplotlib.figure.Figure at 0x10ccbff90>"
      ]
     },
     "metadata": {},
     "output_type": "display_data"
    }
   ],
   "source": [
    "p = sns.boxplot([fullWeightLossData.ix[fullWeightLossData['startDateMonth'] != 6,'weightChange'],fullWeightLossData.ix[fullWeightLossData['startDateMonth'] == 6,'weightChange']])\n",
    "plt.ylim([0,150])"
   ]
  },
  {
   "cell_type": "markdown",
   "metadata": {},
   "source": [
    "Let's look to see the number of people who started their weight loss vs. month:"
   ]
  },
  {
   "cell_type": "code",
   "execution_count": 12,
   "metadata": {
    "collapsed": false
   },
   "outputs": [
    {
     "data": {
      "text/plain": [
       "<seaborn.axisgrid.FacetGrid at 0x10c117350>"
      ]
     },
     "execution_count": 12,
     "metadata": {},
     "output_type": "execute_result"
    },
    {
     "data": {
      "image/png": "[encoded data removed]",
      "text/plain": [
       "<matplotlib.figure.Figure at 0x1071c2910>"
      ]
     },
     "metadata": {},
     "output_type": "display_data"
    }
   ],
   "source": [
    "sns.set_style(\"ticks\", {\"xtick.major.size\": 1})\n",
    "sns.set_context(\"notebook\", font_scale=1.5, rc={\"lines.linewidth\": 2.5})\n",
    "lmPlot = sns.lmplot('startDateMonth', 'count', data=weightLostByMonth, x_estimator=np.mean, size=7, aspect=1.5)\n",
    "\n",
    "plt.gca().set_title('Std Dev of Weight Change vs. Start Weight')\n",
    "plt.xticks(np.arange(1,13))\n",
    "lmPlot.set_xticklabels(['Jan','Feb','Mar','Apr','May','Jun','Jul','Aug','Sep','Oct','Nov','Dec'])"
   ]
  },
  {
   "cell_type": "markdown",
   "metadata": {},
   "source": [
    "This clearly shows that there is outliers during January and December"
   ]
  },
  {
   "cell_type": "markdown",
   "metadata": {
    "collapsed": true
   },
   "source": [
    "Let's make sure this isn't cause people just aren't spending as much time on their diet if they started in June:"
   ]
  },
  {
   "cell_type": "code",
   "execution_count": 13,
   "metadata": {
    "collapsed": false
   },
   "outputs": [
    {
     "data": {
      "text/plain": [
       "startDateMonth\n",
       "1                 10.968157\n",
       "2                 12.195867\n",
       "3                 13.942285\n",
       "4                 13.828197\n",
       "5                 12.552914\n",
       "6                 12.506908\n",
       "7                 12.871185\n",
       "8                 12.639933\n",
       "9                 11.699336\n",
       "10                13.254498\n",
       "11                14.722584\n",
       "12                11.336328\n",
       "Name: timeElapsedMonths, dtype: float64"
      ]
     },
     "execution_count": 13,
     "metadata": {},
     "output_type": "execute_result"
    }
   ],
   "source": [
    "fullWeightLossData.groupby(['startDateMonth'])['timeElapsedMonths'].mean()\n",
    "\n",
    "lmPlot = sns.lmplot('startDateMonth', 'count', data=weightLostByMonth, x_estimator=np.mean, size=7, aspect=1.5)\n"
   ]
  },
  {
   "cell_type": "code",
   "execution_count": 15,
   "metadata": {
    "collapsed": false
   },
   "outputs": [
    {
     "data": {
      "text/plain": [
       "Index([u'index', u'permalink', u'userText', u'name', u'author', u'url', u'num_comments', u'endWeight', u'title', u'created_utc', u'height', u'weightUnit', u'score', u'weightChange', u'over_18', u'timeElapsed', u'gender', u'timeUnit', u'startWeight', u'age', u'currentBMI', u'previousBMI', u'timeElapsedEpoch', u'timeElapsedMonths', u'weightChangeRate', u'username', u'fitnessCommentCount', u'totalCommentCount', u'fitnessCommentFraction', u'sentimentScores', u'startDateMonthName', u'startDateMonth'], dtype='object')"
      ]
     },
     "execution_count": 15,
     "metadata": {},
     "output_type": "execute_result"
    }
   ],
   "source": [
    "fullWeightLossData.columns"
   ]
  },
  {
   "cell_type": "code",
   "execution_count": 31,
   "metadata": {
    "collapsed": false
   },
   "outputs": [
    {
     "data": {
      "text/plain": [
       "<matplotlib.text.Text at 0x10d023d50>"
      ]
     },
     "execution_count": 31,
     "metadata": {},
     "output_type": "execute_result"
    },
    {
     "data": {
      "image/png": "[encoded data removed]",
      "text/plain": [
       "<matplotlib.figure.Figure at 0x10a27eed0>"
      ]
     },
     "metadata": {},
     "output_type": "display_data"
    }
   ],
   "source": [
    "lmPlot = sns.lmplot('startDateMonth', 'timeElapsedMonths', data=fullWeightLossData, x_estimator=np.mean, size=7, aspect=1.5)\n",
    "plt.gca().set_title('Month of Diet Start vs. Diet Elapsed Time')\n"
   ]
  },
  {
   "cell_type": "code",
   "execution_count": null,
   "metadata": {
    "collapsed": true
   },
   "outputs": [],
   "source": []
  }
 ],
 "metadata": {
  "kernelspec": {
   "display_name": "Python 2",
   "language": "python",
   "name": "python2"
  },
  "language_info": {
   "codemirror_mode": {
    "name": "ipython",
    "version": 2
   },
   "file_extension": ".py",
   "mimetype": "text/x-python",
   "name": "python",
   "nbconvert_exporter": "python",
   "pygments_lexer": "ipython2",
   "version": "2.7.10"
  }
 },
 "nbformat": 4,
 "nbformat_minor": 0
}
