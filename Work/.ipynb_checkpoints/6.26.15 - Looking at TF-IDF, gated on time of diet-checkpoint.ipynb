{
 "cells": [
  {
   "cell_type": "markdown",
   "metadata": {},
   "source": [
    "#Looking at TF-IDF, gated on time of diet"
   ]
  },
  {
   "cell_type": "code",
   "execution_count": null,
   "metadata": {
    "collapsed": true
   },
   "outputs": [],
   "source": [
    "import sys, re \n",
    "import numpy as np\n",
    "import matplotlib.pyplot as plt\n",
    "import seaborn as sns\n",
    "import collections\n",
    "import pandas as pd\n",
    "import datetime\n",
    "import pickle\n",
    "\n",
    "import sklearn.feature_extraction.text as stext\n",
    "from nltk import word_tokenize          \n",
    "from nltk.stem import WordNetLemmatizer "
   ]
  },
  {
   "cell_type": "code",
   "execution_count": null,
   "metadata": {
    "collapsed": true
   },
   "outputs": [],
   "source": [
    "#this is the lemmatizer that separates the words. \n",
    "#you need to strip punctuation and capital letters (this does that)\n",
    "class LemmaTokenizer(object):\n",
    "    def __init__(self):\n",
    "        self.wnl = WordNetLemmatizer()\n",
    "    def __call__(self, doc):\n",
    "        doc = doc.lower()\n",
    "        doc = re.sub(\"[^a-z]\", \" \", doc)\n",
    "        doc = re.sub(\"thanks\", \"thank\", doc)\n",
    "        return [self.wnl.lemmatize(t) for t in word_tokenize(doc) if len(self.wnl.lemmatize(t)) > 2]"
   ]
  },
  {
   "cell_type": "code",
   "execution_count": null,
   "metadata": {
    "collapsed": true
   },
   "outputs": [],
   "source": [
    "tfidf = stext.TfidfVectorizer(input='content', ngram_range=(1,2), \n",
    "                              stop_words=stext.ENGLISH_STOP_WORDS.union(['http']), min_df=0.005,\n",
    "                              max_df=0.95, tokenizer=LemmaTokenizer(), strip_accents='unicode', norm='l2')\n",
    "#train on a list of all the comments\n",
    "trained = tfidf.fit_transform(largeLosers['body'].append(smallLosers['body']))\n",
    "#get the features (words)\n",
    "feats = np.asarray(tfidf.get_feature_names())\n",
    "print len(feats)"
   ]
  }
 ],
 "metadata": {
  "kernelspec": {
   "display_name": "Python 2",
   "language": "python",
   "name": "python2"
  },
  "language_info": {
   "codemirror_mode": {
    "name": "ipython",
    "version": 2
   },
   "file_extension": ".py",
   "mimetype": "text/x-python",
   "name": "python",
   "nbconvert_exporter": "python",
   "pygments_lexer": "ipython2",
   "version": "2.7.10"
  }
 },
 "nbformat": 4,
 "nbformat_minor": 0
}
